{
 "cells": [
  {
   "cell_type": "markdown",
   "id": "23bbb699-09cb-4237-90e6-10d48d21bddd",
   "metadata": {},
   "source": [
    "# Data Science Tools and Ecosystem"
   ]
  },
  {
   "cell_type": "markdown",
   "id": "2a260772-ac90-4d9d-afa1-42534caeb4cd",
   "metadata": {},
   "source": [
    "In this notebook, Data Science Tools and Ecosystem are summarized."
   ]
  },
  {
   "cell_type": "markdown",
   "id": "93c2c3db-41e5-4f4f-b524-5b946388eb78",
   "metadata": {},
   "source": [
    "<strong>Objectives:</strong>\n",
    "- List popular languages for Data Science\n",
    "- Create table of data science tools\n",
    "- Create arithmetic expression example"
   ]
  },
  {
   "cell_type": "markdown",
   "id": "bd48246c-1028-4857-910d-a8cd716c6852",
   "metadata": {},
   "source": [
    "Some of the popular languages that Data Scientists use are:\n",
    "1. Python\n",
    "2. R\n",
    "3. SQL"
   ]
  },
  {
   "cell_type": "markdown",
   "id": "f2d13363-4052-4abe-a59e-4dc2850fbc98",
   "metadata": {},
   "source": [
    "Some of the commonly used libraries used by Data Scientists include:\n",
    "1. Pandas\n",
    "2. Numpy\n",
    "3. Seaborn"
   ]
  },
  {
   "cell_type": "markdown",
   "id": "a02e10c0-faf1-4a60-a4ed-21c68b443ac0",
   "metadata": {},
   "source": [
    "|Data Science Tools|\n",
    "|----|\n",
    "|R studio|\n",
    "|Jupyter|\n",
    "|Spyder|"
   ]
  },
  {
   "cell_type": "code",
   "execution_count": 7,
   "id": "2daf149d-e822-4b02-a6c8-cb250fbe37df",
   "metadata": {},
   "outputs": [
    {
     "data": {
      "text/plain": [
       "17"
      ]
     },
     "execution_count": 7,
     "metadata": {},
     "output_type": "execute_result"
    }
   ],
   "source": [
    "# This a simple arithmetic expression to mutiply then add integers\n",
    "(3*4)+5"
   ]
  },
  {
   "cell_type": "code",
   "execution_count": 8,
   "id": "3f79055a-5fe1-47f7-add6-11451902ce4c",
   "metadata": {},
   "outputs": [
    {
     "data": {
      "text/plain": [
       "3.33"
      ]
     },
     "execution_count": 8,
     "metadata": {},
     "output_type": "execute_result"
    }
   ],
   "source": [
    "# This will convert 200 minutes to hours by diving by 60\n",
    "round(200/60, 2)"
   ]
  },
  {
   "cell_type": "markdown",
   "id": "ef7f7d76-5205-40d0-9337-004c05ea012b",
   "metadata": {},
   "source": [
    "## Author\n",
    "Yusuke"
   ]
  },
  {
   "cell_type": "code",
   "execution_count": null,
   "id": "3f75576e-248d-4622-b939-ab6f82d811fb",
   "metadata": {},
   "outputs": [],
   "source": []
  },
  {
   "cell_type": "code",
   "execution_count": null,
   "id": "2f4158c7-3298-472b-957a-060cd329b970",
   "metadata": {},
   "outputs": [],
   "source": []
  }
 ],
 "metadata": {
  "kernelspec": {
   "display_name": "Python",
   "language": "python",
   "name": "conda-env-python-py"
  },
  "language_info": {
   "codemirror_mode": {
    "name": "ipython",
    "version": 3
   },
   "file_extension": ".py",
   "mimetype": "text/x-python",
   "name": "python",
   "nbconvert_exporter": "python",
   "pygments_lexer": "ipython3",
   "version": "3.7.12"
  }
 },
 "nbformat": 4,
 "nbformat_minor": 5
}
